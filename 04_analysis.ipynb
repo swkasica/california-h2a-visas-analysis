{
 "cells": [
  {
   "cell_type": "markdown",
   "metadata": {},
   "source": [
    "# California H-2A visas analysis\n",
    "\n",
    "By [Ben Welsh](mailto:ben.welsh@latimes.com)\n",
    "\n",
    "The Los Angeles Times conducted an analysis of temporary visas granted to foreign agricultural workers by the United States Department of Labor via its H-2A program.\n",
    "\n",
    "The results were reported in a May 25, 2017, Los Angeles Times story titled [\"Trump promised a ‘big beautiful door’ in his border wall. California farmers are ready and waiting\"](http://www.latimes.com/projects/la-fi-farm-labor-guestworkers/).\n",
    "\n",
    "Here are the key findings of the data analysis, which is documented below:\n",
    "\n",
    "* The total number of certified H2A visas is going up nationwide\n",
    "* California's total topped 11,000 last year, a fivefold increase from 2011\n",
    "* If this year’s hiring pace holds, that number will soar even higher\n",
    "* Counties on the Central Coast, from Ventura up to Santa Cruz, are driving the growth\n",
    "* Strawberries and lettuce crops have accounted for most of the new workers\n",
    "* The Santa Maria Valley, straddling San Louis Obispo and Santa Barbara counties, leapt from six sheepherders in 2012 to more than 2,000 guest farm workers last year\n",
    "* Strawberry workers account for most of the growth in that area"
   ]
  },
  {
   "cell_type": "markdown",
   "metadata": {},
   "source": [
    "## How we did it"
   ]
  },
  {
   "cell_type": "markdown",
   "metadata": {},
   "source": [
    "### Import Python analysis tools"
   ]
  },
  {
   "cell_type": "code",
   "execution_count": 1,
   "metadata": {},
   "outputs": [],
   "source": [
    "import os\n",
    "import pandas as pd\n",
    "import geopandas as gp\n",
    "from datetime import date\n",
    "from shapely.geometry import Point"
   ]
  },
  {
   "cell_type": "code",
   "execution_count": 2,
   "metadata": {},
   "outputs": [],
   "source": [
    "import warnings\n",
    "warnings.filterwarnings(\"ignore\")"
   ]
  },
  {
   "cell_type": "code",
   "execution_count": 3,
   "metadata": {},
   "outputs": [],
   "source": [
    "pd.options.display.max_columns = None"
   ]
  },
  {
   "cell_type": "code",
   "execution_count": 4,
   "metadata": {},
   "outputs": [],
   "source": [
    "%matplotlib inline"
   ]
  },
  {
   "cell_type": "code",
   "execution_count": 5,
   "metadata": {},
   "outputs": [],
   "source": [
    "input_dir = os.path.join(os.getcwd(), 'input')\n",
    "output_dir = os.path.join(os.getcwd(), 'output')"
   ]
  },
  {
   "cell_type": "markdown",
   "metadata": {},
   "source": [
    "### Prepare the data for analysis"
   ]
  },
  {
   "cell_type": "markdown",
   "metadata": {},
   "source": [
    "Download the source data files from the U.S. Department of Labor's [Office of Foreign Labor Certification](https://www.foreignlaborcert.doleta.gov/performancedata.cfm)."
   ]
  },
  {
   "cell_type": "code",
   "execution_count": 6,
   "metadata": {},
   "outputs": [
    {
     "ename": "ImportError",
     "evalue": "No module named nbformat",
     "output_type": "error",
     "traceback": [
      "\u001b[0;31m\u001b[0m",
      "\u001b[0;31mImportError\u001b[0mTraceback (most recent call last)",
      "\u001b[0;32m/home/jovyan/.local/lib/python2.7/site-packages/IPython/core/interactiveshell.pyc\u001b[0m in \u001b[0;36mget_cells\u001b[0;34m()\u001b[0m\n\u001b[1;32m   2537\u001b[0m             \u001b[0;34m\"\"\"generator for sequence of code blocks to run\"\"\"\u001b[0m\u001b[0;34m\u001b[0m\u001b[0m\n\u001b[1;32m   2538\u001b[0m             \u001b[0;32mif\u001b[0m \u001b[0mfname\u001b[0m\u001b[0;34m.\u001b[0m\u001b[0mendswith\u001b[0m\u001b[0;34m(\u001b[0m\u001b[0;34m'.ipynb'\u001b[0m\u001b[0;34m)\u001b[0m\u001b[0;34m:\u001b[0m\u001b[0;34m\u001b[0m\u001b[0m\n\u001b[0;32m-> 2539\u001b[0;31m                 \u001b[0;32mfrom\u001b[0m \u001b[0mnbformat\u001b[0m \u001b[0;32mimport\u001b[0m \u001b[0mread\u001b[0m\u001b[0;34m\u001b[0m\u001b[0m\n\u001b[0m\u001b[1;32m   2540\u001b[0m                 \u001b[0mnb\u001b[0m \u001b[0;34m=\u001b[0m \u001b[0mread\u001b[0m\u001b[0;34m(\u001b[0m\u001b[0mfname\u001b[0m\u001b[0;34m,\u001b[0m \u001b[0mas_version\u001b[0m\u001b[0;34m=\u001b[0m\u001b[0;36m4\u001b[0m\u001b[0;34m)\u001b[0m\u001b[0;34m\u001b[0m\u001b[0m\n\u001b[1;32m   2541\u001b[0m                 \u001b[0;32mif\u001b[0m \u001b[0;32mnot\u001b[0m \u001b[0mnb\u001b[0m\u001b[0;34m.\u001b[0m\u001b[0mcells\u001b[0m\u001b[0;34m:\u001b[0m\u001b[0;34m\u001b[0m\u001b[0m\n",
      "\u001b[0;31mImportError\u001b[0m: No module named nbformat"
     ]
    }
   ],
   "source": [
    "%%capture\n",
    "%run 01_download.ipynb"
   ]
  },
  {
   "cell_type": "markdown",
   "metadata": {},
   "source": [
    "Prepare them for analysis by carefully combining annual lists, winnowing out duplicate entries and limiting the result to approved applications."
   ]
  },
  {
   "cell_type": "code",
   "execution_count": 7,
   "metadata": {},
   "outputs": [
    {
     "ename": "ImportError",
     "evalue": "No module named nbformat",
     "output_type": "error",
     "traceback": [
      "\u001b[0;31m\u001b[0m",
      "\u001b[0;31mImportError\u001b[0mTraceback (most recent call last)",
      "\u001b[0;32m/home/jovyan/.local/lib/python2.7/site-packages/IPython/core/interactiveshell.pyc\u001b[0m in \u001b[0;36mget_cells\u001b[0;34m()\u001b[0m\n\u001b[1;32m   2537\u001b[0m             \u001b[0;34m\"\"\"generator for sequence of code blocks to run\"\"\"\u001b[0m\u001b[0;34m\u001b[0m\u001b[0m\n\u001b[1;32m   2538\u001b[0m             \u001b[0;32mif\u001b[0m \u001b[0mfname\u001b[0m\u001b[0;34m.\u001b[0m\u001b[0mendswith\u001b[0m\u001b[0;34m(\u001b[0m\u001b[0;34m'.ipynb'\u001b[0m\u001b[0;34m)\u001b[0m\u001b[0;34m:\u001b[0m\u001b[0;34m\u001b[0m\u001b[0m\n\u001b[0;32m-> 2539\u001b[0;31m                 \u001b[0;32mfrom\u001b[0m \u001b[0mnbformat\u001b[0m \u001b[0;32mimport\u001b[0m \u001b[0mread\u001b[0m\u001b[0;34m\u001b[0m\u001b[0m\n\u001b[0m\u001b[1;32m   2540\u001b[0m                 \u001b[0mnb\u001b[0m \u001b[0;34m=\u001b[0m \u001b[0mread\u001b[0m\u001b[0;34m(\u001b[0m\u001b[0mfname\u001b[0m\u001b[0;34m,\u001b[0m \u001b[0mas_version\u001b[0m\u001b[0;34m=\u001b[0m\u001b[0;36m4\u001b[0m\u001b[0;34m)\u001b[0m\u001b[0;34m\u001b[0m\u001b[0m\n\u001b[1;32m   2541\u001b[0m                 \u001b[0;32mif\u001b[0m \u001b[0;32mnot\u001b[0m \u001b[0mnb\u001b[0m\u001b[0;34m.\u001b[0m\u001b[0mcells\u001b[0m\u001b[0;34m:\u001b[0m\u001b[0;34m\u001b[0m\u001b[0m\n",
      "\u001b[0;31mImportError\u001b[0m: No module named nbformat"
     ]
    }
   ],
   "source": [
    "%%capture\n",
    "%run 02_transform.ipynb"
   ]
  },
  {
   "cell_type": "markdown",
   "metadata": {},
   "source": [
    "Map work site locations"
   ]
  },
  {
   "cell_type": "code",
   "execution_count": 8,
   "metadata": {},
   "outputs": [
    {
     "ename": "ImportError",
     "evalue": "No module named nbformat",
     "output_type": "error",
     "traceback": [
      "\u001b[0;31m\u001b[0m",
      "\u001b[0;31mImportError\u001b[0mTraceback (most recent call last)",
      "\u001b[0;32m/home/jovyan/.local/lib/python2.7/site-packages/IPython/core/interactiveshell.pyc\u001b[0m in \u001b[0;36mget_cells\u001b[0;34m()\u001b[0m\n\u001b[1;32m   2537\u001b[0m             \u001b[0;34m\"\"\"generator for sequence of code blocks to run\"\"\"\u001b[0m\u001b[0;34m\u001b[0m\u001b[0m\n\u001b[1;32m   2538\u001b[0m             \u001b[0;32mif\u001b[0m \u001b[0mfname\u001b[0m\u001b[0;34m.\u001b[0m\u001b[0mendswith\u001b[0m\u001b[0;34m(\u001b[0m\u001b[0;34m'.ipynb'\u001b[0m\u001b[0;34m)\u001b[0m\u001b[0;34m:\u001b[0m\u001b[0;34m\u001b[0m\u001b[0m\n\u001b[0;32m-> 2539\u001b[0;31m                 \u001b[0;32mfrom\u001b[0m \u001b[0mnbformat\u001b[0m \u001b[0;32mimport\u001b[0m \u001b[0mread\u001b[0m\u001b[0;34m\u001b[0m\u001b[0m\n\u001b[0m\u001b[1;32m   2540\u001b[0m                 \u001b[0mnb\u001b[0m \u001b[0;34m=\u001b[0m \u001b[0mread\u001b[0m\u001b[0;34m(\u001b[0m\u001b[0mfname\u001b[0m\u001b[0;34m,\u001b[0m \u001b[0mas_version\u001b[0m\u001b[0;34m=\u001b[0m\u001b[0;36m4\u001b[0m\u001b[0;34m)\u001b[0m\u001b[0;34m\u001b[0m\u001b[0m\n\u001b[1;32m   2541\u001b[0m                 \u001b[0;32mif\u001b[0m \u001b[0;32mnot\u001b[0m \u001b[0mnb\u001b[0m\u001b[0;34m.\u001b[0m\u001b[0mcells\u001b[0m\u001b[0;34m:\u001b[0m\u001b[0;34m\u001b[0m\u001b[0m\n",
      "\u001b[0;31mImportError\u001b[0m: No module named nbformat"
     ]
    }
   ],
   "source": [
    "%%capture\n",
    "run 03_geocode.ipynb"
   ]
  },
  {
   "cell_type": "markdown",
   "metadata": {},
   "source": [
    "### Finding: The total number of certified H2A visas is going up nationwide"
   ]
  },
  {
   "cell_type": "markdown",
   "metadata": {},
   "source": [
    "Read in the transformed file for analysis"
   ]
  },
  {
   "cell_type": "code",
   "execution_count": 9,
   "metadata": {},
   "outputs": [],
   "source": [
    "df = pd.read_csv(\n",
    "    os.path.join(output_dir, \"transformed_master_cases.csv\"),\n",
    "    index_col=\"latimes_id\",\n",
    ")"
   ]
  },
  {
   "cell_type": "markdown",
   "metadata": {},
   "source": [
    "Group by calendar year and sum the total number of certified workers"
   ]
  },
  {
   "cell_type": "code",
   "execution_count": 10,
   "metadata": {},
   "outputs": [],
   "source": [
    "annual_usa = df.groupby(\"certification_start_year\").agg(dict(workers_certified=\"sum\"))"
   ]
  },
  {
   "cell_type": "code",
   "execution_count": 11,
   "metadata": {},
   "outputs": [
    {
     "data": {
      "text/plain": [
       "<matplotlib.axes._subplots.AxesSubplot at 0x7f032949b250>"
      ]
     },
     "execution_count": 11,
     "metadata": {},
     "output_type": "execute_result"
    },
    {
     "data": {
      "image/png": "[encoded data removed]",
      "text/plain": [
       "<Figure size 1080x504 with 1 Axes>"
      ]
     },
     "metadata": {
      "needs_background": "light"
     },
     "output_type": "display_data"
    }
   ],
   "source": [
    "annual_usa.plot.bar(figsize=(15, 7))"
   ]
  },
  {
   "cell_type": "code",
   "execution_count": 12,
   "metadata": {},
   "outputs": [
    {
     "data": {
      "text/html": [
       "<div>\n",
       "<style scoped>\n",
       "    .dataframe tbody tr th:only-of-type {\n",
       "        vertical-align: middle;\n",
       "    }\n",
       "\n",
       "    .dataframe tbody tr th {\n",
       "        vertical-align: top;\n",
       "    }\n",
       "\n",
       "    .dataframe thead th {\n",
       "        text-align: right;\n",
       "    }\n",
       "</style>\n",
       "<table border=\"1\" class=\"dataframe\">\n",
       "  <thead>\n",
       "    <tr style=\"text-align: right;\">\n",
       "      <th></th>\n",
       "      <th>workers_certified</th>\n",
       "    </tr>\n",
       "    <tr>\n",
       "      <th>certification_start_year</th>\n",
       "      <th></th>\n",
       "    </tr>\n",
       "  </thead>\n",
       "  <tbody>\n",
       "    <tr>\n",
       "      <th>2008.0</th>\n",
       "      <td>91324</td>\n",
       "    </tr>\n",
       "    <tr>\n",
       "      <th>2009.0</th>\n",
       "      <td>86604</td>\n",
       "    </tr>\n",
       "    <tr>\n",
       "      <th>2010.0</th>\n",
       "      <td>75617</td>\n",
       "    </tr>\n",
       "    <tr>\n",
       "      <th>2011.0</th>\n",
       "      <td>77221</td>\n",
       "    </tr>\n",
       "    <tr>\n",
       "      <th>2012.0</th>\n",
       "      <td>86725</td>\n",
       "    </tr>\n",
       "    <tr>\n",
       "      <th>2013.0</th>\n",
       "      <td>100360</td>\n",
       "    </tr>\n",
       "    <tr>\n",
       "      <th>2014.0</th>\n",
       "      <td>119240</td>\n",
       "    </tr>\n",
       "    <tr>\n",
       "      <th>2015.0</th>\n",
       "      <td>140701</td>\n",
       "    </tr>\n",
       "    <tr>\n",
       "      <th>2016.0</th>\n",
       "      <td>166457</td>\n",
       "    </tr>\n",
       "    <tr>\n",
       "      <th>2017.0</th>\n",
       "      <td>79893</td>\n",
       "    </tr>\n",
       "  </tbody>\n",
       "</table>\n",
       "</div>"
      ],
      "text/plain": [
       "                          workers_certified\n",
       "certification_start_year                   \n",
       "2008.0                                91324\n",
       "2009.0                                86604\n",
       "2010.0                                75617\n",
       "2011.0                                77221\n",
       "2012.0                                86725\n",
       "2013.0                               100360\n",
       "2014.0                               119240\n",
       "2015.0                               140701\n",
       "2016.0                               166457\n",
       "2017.0                                79893"
      ]
     },
     "execution_count": 12,
     "metadata": {},
     "output_type": "execute_result"
    }
   ],
   "source": [
    "annual_usa"
   ]
  },
  {
   "cell_type": "markdown",
   "metadata": {},
   "source": [
    "### Finding: California's total topped 11,000 last year, a fivefold increase from 2011"
   ]
  },
  {
   "cell_type": "markdown",
   "metadata": {},
   "source": [
    "Group the applications by state and year"
   ]
  },
  {
   "cell_type": "code",
   "execution_count": 13,
   "metadata": {},
   "outputs": [],
   "source": [
    "state_totals = df.groupby([\n",
    "    'state',\n",
    "    'certification_start_year']\n",
    ").agg(dict(workers_certified=\"sum\"))"
   ]
  },
  {
   "cell_type": "code",
   "execution_count": 14,
   "metadata": {},
   "outputs": [
    {
     "data": {
      "text/html": [
       "<div>\n",
       "<style scoped>\n",
       "    .dataframe tbody tr th:only-of-type {\n",
       "        vertical-align: middle;\n",
       "    }\n",
       "\n",
       "    .dataframe tbody tr th {\n",
       "        vertical-align: top;\n",
       "    }\n",
       "\n",
       "    .dataframe thead th {\n",
       "        text-align: right;\n",
       "    }\n",
       "</style>\n",
       "<table border=\"1\" class=\"dataframe\">\n",
       "  <thead>\n",
       "    <tr style=\"text-align: right;\">\n",
       "      <th></th>\n",
       "      <th></th>\n",
       "      <th>workers_certified</th>\n",
       "    </tr>\n",
       "    <tr>\n",
       "      <th>state</th>\n",
       "      <th>certification_start_year</th>\n",
       "      <th></th>\n",
       "    </tr>\n",
       "  </thead>\n",
       "  <tbody>\n",
       "    <tr>\n",
       "      <th>AB</th>\n",
       "      <th>2009.0</th>\n",
       "      <td>13</td>\n",
       "    </tr>\n",
       "    <tr>\n",
       "      <th rowspan=\"10\" valign=\"top\">AK</th>\n",
       "      <th>2008.0</th>\n",
       "      <td>30</td>\n",
       "    </tr>\n",
       "    <tr>\n",
       "      <th>2009.0</th>\n",
       "      <td>31</td>\n",
       "    </tr>\n",
       "    <tr>\n",
       "      <th>2010.0</th>\n",
       "      <td>20</td>\n",
       "    </tr>\n",
       "    <tr>\n",
       "      <th>2011.0</th>\n",
       "      <td>22</td>\n",
       "    </tr>\n",
       "    <tr>\n",
       "      <th>2012.0</th>\n",
       "      <td>22</td>\n",
       "    </tr>\n",
       "    <tr>\n",
       "      <th>2013.0</th>\n",
       "      <td>20</td>\n",
       "    </tr>\n",
       "    <tr>\n",
       "      <th>2014.0</th>\n",
       "      <td>15</td>\n",
       "    </tr>\n",
       "    <tr>\n",
       "      <th>2015.0</th>\n",
       "      <td>15</td>\n",
       "    </tr>\n",
       "    <tr>\n",
       "      <th>2016.0</th>\n",
       "      <td>17</td>\n",
       "    </tr>\n",
       "    <tr>\n",
       "      <th>2017.0</th>\n",
       "      <td>22</td>\n",
       "    </tr>\n",
       "    <tr>\n",
       "      <th rowspan=\"10\" valign=\"top\">AL</th>\n",
       "      <th>2008.0</th>\n",
       "      <td>720</td>\n",
       "    </tr>\n",
       "    <tr>\n",
       "      <th>2009.0</th>\n",
       "      <td>584</td>\n",
       "    </tr>\n",
       "    <tr>\n",
       "      <th>2010.0</th>\n",
       "      <td>520</td>\n",
       "    </tr>\n",
       "    <tr>\n",
       "      <th>2011.0</th>\n",
       "      <td>613</td>\n",
       "    </tr>\n",
       "    <tr>\n",
       "      <th>2012.0</th>\n",
       "      <td>701</td>\n",
       "    </tr>\n",
       "    <tr>\n",
       "      <th>2013.0</th>\n",
       "      <td>650</td>\n",
       "    </tr>\n",
       "    <tr>\n",
       "      <th>2014.0</th>\n",
       "      <td>729</td>\n",
       "    </tr>\n",
       "    <tr>\n",
       "      <th>2015.0</th>\n",
       "      <td>735</td>\n",
       "    </tr>\n",
       "    <tr>\n",
       "      <th>2016.0</th>\n",
       "      <td>945</td>\n",
       "    </tr>\n",
       "    <tr>\n",
       "      <th>2017.0</th>\n",
       "      <td>599</td>\n",
       "    </tr>\n",
       "    <tr>\n",
       "      <th rowspan=\"9\" valign=\"top\">AR</th>\n",
       "      <th>2008.0</th>\n",
       "      <td>3325</td>\n",
       "    </tr>\n",
       "    <tr>\n",
       "      <th>2009.0</th>\n",
       "      <td>3026</td>\n",
       "    </tr>\n",
       "    <tr>\n",
       "      <th>2010.0</th>\n",
       "      <td>2836</td>\n",
       "    </tr>\n",
       "    <tr>\n",
       "      <th>2011.0</th>\n",
       "      <td>2471</td>\n",
       "    </tr>\n",
       "    <tr>\n",
       "      <th>2012.0</th>\n",
       "      <td>2712</td>\n",
       "    </tr>\n",
       "    <tr>\n",
       "      <th>2013.0</th>\n",
       "      <td>2793</td>\n",
       "    </tr>\n",
       "    <tr>\n",
       "      <th>2014.0</th>\n",
       "      <td>2582</td>\n",
       "    </tr>\n",
       "    <tr>\n",
       "      <th>2015.0</th>\n",
       "      <td>2490</td>\n",
       "    </tr>\n",
       "    <tr>\n",
       "      <th>2016.0</th>\n",
       "      <td>3123</td>\n",
       "    </tr>\n",
       "    <tr>\n",
       "      <th>...</th>\n",
       "      <th>...</th>\n",
       "      <td>...</td>\n",
       "    </tr>\n",
       "    <tr>\n",
       "      <th rowspan=\"10\" valign=\"top\">WI</th>\n",
       "      <th>2008.0</th>\n",
       "      <td>332</td>\n",
       "    </tr>\n",
       "    <tr>\n",
       "      <th>2009.0</th>\n",
       "      <td>376</td>\n",
       "    </tr>\n",
       "    <tr>\n",
       "      <th>2010.0</th>\n",
       "      <td>142</td>\n",
       "    </tr>\n",
       "    <tr>\n",
       "      <th>2011.0</th>\n",
       "      <td>120</td>\n",
       "    </tr>\n",
       "    <tr>\n",
       "      <th>2012.0</th>\n",
       "      <td>171</td>\n",
       "    </tr>\n",
       "    <tr>\n",
       "      <th>2013.0</th>\n",
       "      <td>178</td>\n",
       "    </tr>\n",
       "    <tr>\n",
       "      <th>2014.0</th>\n",
       "      <td>490</td>\n",
       "    </tr>\n",
       "    <tr>\n",
       "      <th>2015.0</th>\n",
       "      <td>448</td>\n",
       "    </tr>\n",
       "    <tr>\n",
       "      <th>2016.0</th>\n",
       "      <td>853</td>\n",
       "    </tr>\n",
       "    <tr>\n",
       "      <th>2017.0</th>\n",
       "      <td>301</td>\n",
       "    </tr>\n",
       "    <tr>\n",
       "      <th rowspan=\"10\" valign=\"top\">WV</th>\n",
       "      <th>2008.0</th>\n",
       "      <td>37</td>\n",
       "    </tr>\n",
       "    <tr>\n",
       "      <th>2009.0</th>\n",
       "      <td>48</td>\n",
       "    </tr>\n",
       "    <tr>\n",
       "      <th>2010.0</th>\n",
       "      <td>42</td>\n",
       "    </tr>\n",
       "    <tr>\n",
       "      <th>2011.0</th>\n",
       "      <td>38</td>\n",
       "    </tr>\n",
       "    <tr>\n",
       "      <th>2012.0</th>\n",
       "      <td>134</td>\n",
       "    </tr>\n",
       "    <tr>\n",
       "      <th>2013.0</th>\n",
       "      <td>34</td>\n",
       "    </tr>\n",
       "    <tr>\n",
       "      <th>2014.0</th>\n",
       "      <td>37</td>\n",
       "    </tr>\n",
       "    <tr>\n",
       "      <th>2015.0</th>\n",
       "      <td>72</td>\n",
       "    </tr>\n",
       "    <tr>\n",
       "      <th>2016.0</th>\n",
       "      <td>116</td>\n",
       "    </tr>\n",
       "    <tr>\n",
       "      <th>2017.0</th>\n",
       "      <td>55</td>\n",
       "    </tr>\n",
       "    <tr>\n",
       "      <th rowspan=\"10\" valign=\"top\">WY</th>\n",
       "      <th>2008.0</th>\n",
       "      <td>385</td>\n",
       "    </tr>\n",
       "    <tr>\n",
       "      <th>2009.0</th>\n",
       "      <td>361</td>\n",
       "    </tr>\n",
       "    <tr>\n",
       "      <th>2010.0</th>\n",
       "      <td>382</td>\n",
       "    </tr>\n",
       "    <tr>\n",
       "      <th>2011.0</th>\n",
       "      <td>290</td>\n",
       "    </tr>\n",
       "    <tr>\n",
       "      <th>2012.0</th>\n",
       "      <td>304</td>\n",
       "    </tr>\n",
       "    <tr>\n",
       "      <th>2013.0</th>\n",
       "      <td>307</td>\n",
       "    </tr>\n",
       "    <tr>\n",
       "      <th>2014.0</th>\n",
       "      <td>292</td>\n",
       "    </tr>\n",
       "    <tr>\n",
       "      <th>2015.0</th>\n",
       "      <td>308</td>\n",
       "    </tr>\n",
       "    <tr>\n",
       "      <th>2016.0</th>\n",
       "      <td>336</td>\n",
       "    </tr>\n",
       "    <tr>\n",
       "      <th>2017.0</th>\n",
       "      <td>256</td>\n",
       "    </tr>\n",
       "  </tbody>\n",
       "</table>\n",
       "<p>503 rows × 1 columns</p>\n",
       "</div>"
      ],
      "text/plain": [
       "                                workers_certified\n",
       "state certification_start_year                   \n",
       "AB    2009.0                                   13\n",
       "AK    2008.0                                   30\n",
       "      2009.0                                   31\n",
       "      2010.0                                   20\n",
       "      2011.0                                   22\n",
       "      2012.0                                   22\n",
       "      2013.0                                   20\n",
       "      2014.0                                   15\n",
       "      2015.0                                   15\n",
       "      2016.0                                   17\n",
       "      2017.0                                   22\n",
       "AL    2008.0                                  720\n",
       "      2009.0                                  584\n",
       "      2010.0                                  520\n",
       "      2011.0                                  613\n",
       "      2012.0                                  701\n",
       "      2013.0                                  650\n",
       "      2014.0                                  729\n",
       "      2015.0                                  735\n",
       "      2016.0                                  945\n",
       "      2017.0                                  599\n",
       "AR    2008.0                                 3325\n",
       "      2009.0                                 3026\n",
       "      2010.0                                 2836\n",
       "      2011.0                                 2471\n",
       "      2012.0                                 2712\n",
       "      2013.0                                 2793\n",
       "      2014.0                                 2582\n",
       "      2015.0                                 2490\n",
       "      2016.0                                 3123\n",
       "...                                           ...\n",
       "WI    2008.0                                  332\n",
       "      2009.0                                  376\n",
       "      2010.0                                  142\n",
       "      2011.0                                  120\n",
       "      2012.0                                  171\n",
       "      2013.0                                  178\n",
       "      2014.0                                  490\n",
       "      2015.0                                  448\n",
       "      2016.0                                  853\n",
       "      2017.0                                  301\n",
       "WV    2008.0                                   37\n",
       "      2009.0                                   48\n",
       "      2010.0                                   42\n",
       "      2011.0                                   38\n",
       "      2012.0                                  134\n",
       "      2013.0                                   34\n",
       "      2014.0                                   37\n",
       "      2015.0                                   72\n",
       "      2016.0                                  116\n",
       "      2017.0                                   55\n",
       "WY    2008.0                                  385\n",
       "      2009.0                                  361\n",
       "      2010.0                                  382\n",
       "      2011.0                                  290\n",
       "      2012.0                                  304\n",
       "      2013.0                                  307\n",
       "      2014.0                                  292\n",
       "      2015.0                                  308\n",
       "      2016.0                                  336\n",
       "      2017.0                                  256\n",
       "\n",
       "[503 rows x 1 columns]"
      ]
     },
     "execution_count": 14,
     "metadata": {},
     "output_type": "execute_result"
    }
   ],
   "source": [
    "# Added by steve\n",
    "state_totals"
   ]
  },
  {
   "cell_type": "markdown",
   "metadata": {},
   "source": [
    "Create a crosstab for a graphic and comparison"
   ]
  },
  {
   "cell_type": "code",
   "execution_count": 15,
   "metadata": {},
   "outputs": [],
   "source": [
    "state_crosstab = state_totals.unstack(1).fillna(0)"
   ]
  },
  {
   "cell_type": "code",
   "execution_count": 16,
   "metadata": {},
   "outputs": [
    {
     "data": {
      "text/html": [
       "<div>\n",
       "<style scoped>\n",
       "    .dataframe tbody tr th:only-of-type {\n",
       "        vertical-align: middle;\n",
       "    }\n",
       "\n",
       "    .dataframe tbody tr th {\n",
       "        vertical-align: top;\n",
       "    }\n",
       "\n",
       "    .dataframe thead tr th {\n",
       "        text-align: left;\n",
       "    }\n",
       "\n",
       "    .dataframe thead tr:last-of-type th {\n",
       "        text-align: right;\n",
       "    }\n",
       "</style>\n",
       "<table border=\"1\" class=\"dataframe\">\n",
       "  <thead>\n",
       "    <tr>\n",
       "      <th></th>\n",
       "      <th colspan=\"10\" halign=\"left\">workers_certified</th>\n",
       "    </tr>\n",
       "    <tr>\n",
       "      <th>certification_start_year</th>\n",
       "      <th>2008.0</th>\n",
       "      <th>2009.0</th>\n",
       "      <th>2010.0</th>\n",
       "      <th>2011.0</th>\n",
       "      <th>2012.0</th>\n",
       "      <th>2013.0</th>\n",
       "      <th>2014.0</th>\n",
       "      <th>2015.0</th>\n",
       "      <th>2016.0</th>\n",
       "      <th>2017.0</th>\n",
       "    </tr>\n",
       "    <tr>\n",
       "      <th>state</th>\n",
       "      <th></th>\n",
       "      <th></th>\n",
       "      <th></th>\n",
       "      <th></th>\n",
       "      <th></th>\n",
       "      <th></th>\n",
       "      <th></th>\n",
       "      <th></th>\n",
       "      <th></th>\n",
       "      <th></th>\n",
       "    </tr>\n",
       "  </thead>\n",
       "  <tbody>\n",
       "    <tr>\n",
       "      <th>AB</th>\n",
       "      <td>0.0</td>\n",
       "      <td>13.0</td>\n",
       "      <td>0.0</td>\n",
       "      <td>0.0</td>\n",
       "      <td>0.0</td>\n",
       "      <td>0.0</td>\n",
       "      <td>0.0</td>\n",
       "      <td>0.0</td>\n",
       "      <td>0.0</td>\n",
       "      <td>0.0</td>\n",
       "    </tr>\n",
       "    <tr>\n",
       "      <th>AK</th>\n",
       "      <td>30.0</td>\n",
       "      <td>31.0</td>\n",
       "      <td>20.0</td>\n",
       "      <td>22.0</td>\n",
       "      <td>22.0</td>\n",
       "      <td>20.0</td>\n",
       "      <td>15.0</td>\n",
       "      <td>15.0</td>\n",
       "      <td>17.0</td>\n",
       "      <td>22.0</td>\n",
       "    </tr>\n",
       "    <tr>\n",
       "      <th>AL</th>\n",
       "      <td>720.0</td>\n",
       "      <td>584.0</td>\n",
       "      <td>520.0</td>\n",
       "      <td>613.0</td>\n",
       "      <td>701.0</td>\n",
       "      <td>650.0</td>\n",
       "      <td>729.0</td>\n",
       "      <td>735.0</td>\n",
       "      <td>945.0</td>\n",
       "      <td>599.0</td>\n",
       "    </tr>\n",
       "    <tr>\n",
       "      <th>AR</th>\n",
       "      <td>3325.0</td>\n",
       "      <td>3026.0</td>\n",
       "      <td>2836.0</td>\n",
       "      <td>2471.0</td>\n",
       "      <td>2712.0</td>\n",
       "      <td>2793.0</td>\n",
       "      <td>2582.0</td>\n",
       "      <td>2490.0</td>\n",
       "      <td>3123.0</td>\n",
       "      <td>1971.0</td>\n",
       "    </tr>\n",
       "    <tr>\n",
       "      <th>AZ</th>\n",
       "      <td>5836.0</td>\n",
       "      <td>4159.0</td>\n",
       "      <td>3304.0</td>\n",
       "      <td>2091.0</td>\n",
       "      <td>2242.0</td>\n",
       "      <td>3365.0</td>\n",
       "      <td>3998.0</td>\n",
       "      <td>4595.0</td>\n",
       "      <td>6205.0</td>\n",
       "      <td>991.0</td>\n",
       "    </tr>\n",
       "    <tr>\n",
       "      <th>CA</th>\n",
       "      <td>3353.0</td>\n",
       "      <td>2941.0</td>\n",
       "      <td>2298.0</td>\n",
       "      <td>1774.0</td>\n",
       "      <td>3249.0</td>\n",
       "      <td>4291.0</td>\n",
       "      <td>6011.0</td>\n",
       "      <td>8529.0</td>\n",
       "      <td>11131.0</td>\n",
       "      <td>6230.0</td>\n",
       "    </tr>\n",
       "    <tr>\n",
       "      <th>CO</th>\n",
       "      <td>2536.0</td>\n",
       "      <td>2364.0</td>\n",
       "      <td>1572.0</td>\n",
       "      <td>1045.0</td>\n",
       "      <td>1052.0</td>\n",
       "      <td>1113.0</td>\n",
       "      <td>1573.0</td>\n",
       "      <td>1693.0</td>\n",
       "      <td>2059.0</td>\n",
       "      <td>1096.0</td>\n",
       "    </tr>\n",
       "    <tr>\n",
       "      <th>CT</th>\n",
       "      <td>655.0</td>\n",
       "      <td>278.0</td>\n",
       "      <td>362.0</td>\n",
       "      <td>290.0</td>\n",
       "      <td>721.0</td>\n",
       "      <td>833.0</td>\n",
       "      <td>408.0</td>\n",
       "      <td>478.0</td>\n",
       "      <td>327.0</td>\n",
       "      <td>226.0</td>\n",
       "    </tr>\n",
       "    <tr>\n",
       "      <th>DE</th>\n",
       "      <td>53.0</td>\n",
       "      <td>57.0</td>\n",
       "      <td>46.0</td>\n",
       "      <td>38.0</td>\n",
       "      <td>32.0</td>\n",
       "      <td>32.0</td>\n",
       "      <td>36.0</td>\n",
       "      <td>227.0</td>\n",
       "      <td>392.0</td>\n",
       "      <td>119.0</td>\n",
       "    </tr>\n",
       "    <tr>\n",
       "      <th>FL</th>\n",
       "      <td>5571.0</td>\n",
       "      <td>5113.0</td>\n",
       "      <td>4598.0</td>\n",
       "      <td>6577.0</td>\n",
       "      <td>8646.0</td>\n",
       "      <td>11196.0</td>\n",
       "      <td>15759.0</td>\n",
       "      <td>18551.0</td>\n",
       "      <td>21894.0</td>\n",
       "      <td>6432.0</td>\n",
       "    </tr>\n",
       "    <tr>\n",
       "      <th>GA</th>\n",
       "      <td>7173.0</td>\n",
       "      <td>6510.0</td>\n",
       "      <td>4927.0</td>\n",
       "      <td>6475.0</td>\n",
       "      <td>7887.0</td>\n",
       "      <td>9330.0</td>\n",
       "      <td>10477.0</td>\n",
       "      <td>14165.0</td>\n",
       "      <td>17667.0</td>\n",
       "      <td>12206.0</td>\n",
       "    </tr>\n",
       "    <tr>\n",
       "      <th>HI</th>\n",
       "      <td>224.0</td>\n",
       "      <td>200.0</td>\n",
       "      <td>175.0</td>\n",
       "      <td>114.0</td>\n",
       "      <td>122.0</td>\n",
       "      <td>21.0</td>\n",
       "      <td>39.0</td>\n",
       "      <td>43.0</td>\n",
       "      <td>48.0</td>\n",
       "      <td>46.0</td>\n",
       "    </tr>\n",
       "    <tr>\n",
       "      <th>IA</th>\n",
       "      <td>1735.0</td>\n",
       "      <td>1344.0</td>\n",
       "      <td>846.0</td>\n",
       "      <td>1168.0</td>\n",
       "      <td>1212.0</td>\n",
       "      <td>1557.0</td>\n",
       "      <td>1169.0</td>\n",
       "      <td>1330.0</td>\n",
       "      <td>2226.0</td>\n",
       "      <td>712.0</td>\n",
       "    </tr>\n",
       "    <tr>\n",
       "      <th>ID</th>\n",
       "      <td>2278.0</td>\n",
       "      <td>2259.0</td>\n",
       "      <td>2536.0</td>\n",
       "      <td>1801.0</td>\n",
       "      <td>1987.0</td>\n",
       "      <td>2044.0</td>\n",
       "      <td>2079.0</td>\n",
       "      <td>2351.0</td>\n",
       "      <td>3043.0</td>\n",
       "      <td>2302.0</td>\n",
       "    </tr>\n",
       "    <tr>\n",
       "      <th>IL</th>\n",
       "      <td>744.0</td>\n",
       "      <td>525.0</td>\n",
       "      <td>543.0</td>\n",
       "      <td>570.0</td>\n",
       "      <td>784.0</td>\n",
       "      <td>805.0</td>\n",
       "      <td>871.0</td>\n",
       "      <td>810.0</td>\n",
       "      <td>1330.0</td>\n",
       "      <td>262.0</td>\n",
       "    </tr>\n",
       "    <tr>\n",
       "      <th>IN</th>\n",
       "      <td>132.0</td>\n",
       "      <td>101.0</td>\n",
       "      <td>71.0</td>\n",
       "      <td>119.0</td>\n",
       "      <td>463.0</td>\n",
       "      <td>1017.0</td>\n",
       "      <td>934.0</td>\n",
       "      <td>1261.0</td>\n",
       "      <td>1974.0</td>\n",
       "      <td>404.0</td>\n",
       "    </tr>\n",
       "    <tr>\n",
       "      <th>KS</th>\n",
       "      <td>1087.0</td>\n",
       "      <td>906.0</td>\n",
       "      <td>799.0</td>\n",
       "      <td>839.0</td>\n",
       "      <td>730.0</td>\n",
       "      <td>678.0</td>\n",
       "      <td>691.0</td>\n",
       "      <td>743.0</td>\n",
       "      <td>788.0</td>\n",
       "      <td>690.0</td>\n",
       "    </tr>\n",
       "    <tr>\n",
       "      <th>KY</th>\n",
       "      <td>5873.0</td>\n",
       "      <td>5716.0</td>\n",
       "      <td>5443.0</td>\n",
       "      <td>4686.0</td>\n",
       "      <td>4755.0</td>\n",
       "      <td>5804.0</td>\n",
       "      <td>6811.0</td>\n",
       "      <td>6672.0</td>\n",
       "      <td>6787.0</td>\n",
       "      <td>2145.0</td>\n",
       "    </tr>\n",
       "    <tr>\n",
       "      <th>LA</th>\n",
       "      <td>6050.0</td>\n",
       "      <td>6926.0</td>\n",
       "      <td>6424.0</td>\n",
       "      <td>7113.0</td>\n",
       "      <td>6786.0</td>\n",
       "      <td>6684.0</td>\n",
       "      <td>7071.0</td>\n",
       "      <td>7819.0</td>\n",
       "      <td>8387.0</td>\n",
       "      <td>3856.0</td>\n",
       "    </tr>\n",
       "    <tr>\n",
       "      <th>MA</th>\n",
       "      <td>692.0</td>\n",
       "      <td>558.0</td>\n",
       "      <td>442.0</td>\n",
       "      <td>487.0</td>\n",
       "      <td>449.0</td>\n",
       "      <td>457.0</td>\n",
       "      <td>432.0</td>\n",
       "      <td>459.0</td>\n",
       "      <td>437.0</td>\n",
       "      <td>193.0</td>\n",
       "    </tr>\n",
       "    <tr>\n",
       "      <th>MB</th>\n",
       "      <td>0.0</td>\n",
       "      <td>0.0</td>\n",
       "      <td>10.0</td>\n",
       "      <td>0.0</td>\n",
       "      <td>0.0</td>\n",
       "      <td>0.0</td>\n",
       "      <td>0.0</td>\n",
       "      <td>0.0</td>\n",
       "      <td>0.0</td>\n",
       "      <td>0.0</td>\n",
       "    </tr>\n",
       "    <tr>\n",
       "      <th>MD</th>\n",
       "      <td>1121.0</td>\n",
       "      <td>873.0</td>\n",
       "      <td>616.0</td>\n",
       "      <td>624.0</td>\n",
       "      <td>639.0</td>\n",
       "      <td>640.0</td>\n",
       "      <td>608.0</td>\n",
       "      <td>657.0</td>\n",
       "      <td>804.0</td>\n",
       "      <td>531.0</td>\n",
       "    </tr>\n",
       "    <tr>\n",
       "      <th>ME</th>\n",
       "      <td>638.0</td>\n",
       "      <td>974.0</td>\n",
       "      <td>627.0</td>\n",
       "      <td>614.0</td>\n",
       "      <td>586.0</td>\n",
       "      <td>519.0</td>\n",
       "      <td>641.0</td>\n",
       "      <td>665.0</td>\n",
       "      <td>700.0</td>\n",
       "      <td>53.0</td>\n",
       "    </tr>\n",
       "    <tr>\n",
       "      <th>MI</th>\n",
       "      <td>469.0</td>\n",
       "      <td>460.0</td>\n",
       "      <td>277.0</td>\n",
       "      <td>276.0</td>\n",
       "      <td>344.0</td>\n",
       "      <td>585.0</td>\n",
       "      <td>1317.0</td>\n",
       "      <td>2226.0</td>\n",
       "      <td>3932.0</td>\n",
       "      <td>1632.0</td>\n",
       "    </tr>\n",
       "    <tr>\n",
       "      <th>MN</th>\n",
       "      <td>955.0</td>\n",
       "      <td>694.0</td>\n",
       "      <td>706.0</td>\n",
       "      <td>521.0</td>\n",
       "      <td>750.0</td>\n",
       "      <td>729.0</td>\n",
       "      <td>1000.0</td>\n",
       "      <td>1178.0</td>\n",
       "      <td>1271.0</td>\n",
       "      <td>1152.0</td>\n",
       "    </tr>\n",
       "    <tr>\n",
       "      <th>MO</th>\n",
       "      <td>492.0</td>\n",
       "      <td>354.0</td>\n",
       "      <td>305.0</td>\n",
       "      <td>267.0</td>\n",
       "      <td>226.0</td>\n",
       "      <td>327.0</td>\n",
       "      <td>618.0</td>\n",
       "      <td>815.0</td>\n",
       "      <td>895.0</td>\n",
       "      <td>290.0</td>\n",
       "    </tr>\n",
       "    <tr>\n",
       "      <th>MS</th>\n",
       "      <td>2149.0</td>\n",
       "      <td>1937.0</td>\n",
       "      <td>1840.0</td>\n",
       "      <td>1745.0</td>\n",
       "      <td>2267.0</td>\n",
       "      <td>2460.0</td>\n",
       "      <td>2915.0</td>\n",
       "      <td>3332.0</td>\n",
       "      <td>3564.0</td>\n",
       "      <td>1838.0</td>\n",
       "    </tr>\n",
       "    <tr>\n",
       "      <th>MT</th>\n",
       "      <td>598.0</td>\n",
       "      <td>505.0</td>\n",
       "      <td>169.0</td>\n",
       "      <td>422.0</td>\n",
       "      <td>479.0</td>\n",
       "      <td>484.0</td>\n",
       "      <td>587.0</td>\n",
       "      <td>608.0</td>\n",
       "      <td>617.0</td>\n",
       "      <td>599.0</td>\n",
       "    </tr>\n",
       "    <tr>\n",
       "      <th>NC</th>\n",
       "      <td>9133.0</td>\n",
       "      <td>9128.0</td>\n",
       "      <td>9396.0</td>\n",
       "      <td>9129.0</td>\n",
       "      <td>10481.0</td>\n",
       "      <td>12386.0</td>\n",
       "      <td>15145.0</td>\n",
       "      <td>17596.0</td>\n",
       "      <td>19714.0</td>\n",
       "      <td>9513.0</td>\n",
       "    </tr>\n",
       "    <tr>\n",
       "      <th>ND</th>\n",
       "      <td>878.0</td>\n",
       "      <td>973.0</td>\n",
       "      <td>825.0</td>\n",
       "      <td>837.0</td>\n",
       "      <td>898.0</td>\n",
       "      <td>913.0</td>\n",
       "      <td>1197.0</td>\n",
       "      <td>1325.0</td>\n",
       "      <td>1352.0</td>\n",
       "      <td>1161.0</td>\n",
       "    </tr>\n",
       "    <tr>\n",
       "      <th>NE</th>\n",
       "      <td>200.0</td>\n",
       "      <td>223.0</td>\n",
       "      <td>220.0</td>\n",
       "      <td>240.0</td>\n",
       "      <td>259.0</td>\n",
       "      <td>379.0</td>\n",
       "      <td>548.0</td>\n",
       "      <td>666.0</td>\n",
       "      <td>989.0</td>\n",
       "      <td>363.0</td>\n",
       "    </tr>\n",
       "    <tr>\n",
       "      <th>NH</th>\n",
       "      <td>273.0</td>\n",
       "      <td>418.0</td>\n",
       "      <td>135.0</td>\n",
       "      <td>205.0</td>\n",
       "      <td>153.0</td>\n",
       "      <td>181.0</td>\n",
       "      <td>163.0</td>\n",
       "      <td>166.0</td>\n",
       "      <td>169.0</td>\n",
       "      <td>76.0</td>\n",
       "    </tr>\n",
       "    <tr>\n",
       "      <th>NJ</th>\n",
       "      <td>511.0</td>\n",
       "      <td>580.0</td>\n",
       "      <td>457.0</td>\n",
       "      <td>454.0</td>\n",
       "      <td>548.0</td>\n",
       "      <td>598.0</td>\n",
       "      <td>648.0</td>\n",
       "      <td>806.0</td>\n",
       "      <td>1016.0</td>\n",
       "      <td>971.0</td>\n",
       "    </tr>\n",
       "    <tr>\n",
       "      <th>NM</th>\n",
       "      <td>421.0</td>\n",
       "      <td>545.0</td>\n",
       "      <td>548.0</td>\n",
       "      <td>568.0</td>\n",
       "      <td>124.0</td>\n",
       "      <td>152.0</td>\n",
       "      <td>163.0</td>\n",
       "      <td>254.0</td>\n",
       "      <td>368.0</td>\n",
       "      <td>267.0</td>\n",
       "    </tr>\n",
       "    <tr>\n",
       "      <th>NV</th>\n",
       "      <td>2001.0</td>\n",
       "      <td>1927.0</td>\n",
       "      <td>1677.0</td>\n",
       "      <td>1762.0</td>\n",
       "      <td>1682.0</td>\n",
       "      <td>1769.0</td>\n",
       "      <td>1874.0</td>\n",
       "      <td>1941.0</td>\n",
       "      <td>2078.0</td>\n",
       "      <td>711.0</td>\n",
       "    </tr>\n",
       "    <tr>\n",
       "      <th>NY</th>\n",
       "      <td>4210.0</td>\n",
       "      <td>4315.0</td>\n",
       "      <td>3852.0</td>\n",
       "      <td>3949.0</td>\n",
       "      <td>3650.0</td>\n",
       "      <td>4697.0</td>\n",
       "      <td>4681.0</td>\n",
       "      <td>5058.0</td>\n",
       "      <td>5551.0</td>\n",
       "      <td>1693.0</td>\n",
       "    </tr>\n",
       "    <tr>\n",
       "      <th>OH</th>\n",
       "      <td>1153.0</td>\n",
       "      <td>1216.0</td>\n",
       "      <td>924.0</td>\n",
       "      <td>733.0</td>\n",
       "      <td>770.0</td>\n",
       "      <td>762.0</td>\n",
       "      <td>845.0</td>\n",
       "      <td>1055.0</td>\n",
       "      <td>1375.0</td>\n",
       "      <td>857.0</td>\n",
       "    </tr>\n",
       "    <tr>\n",
       "      <th>OK</th>\n",
       "      <td>602.0</td>\n",
       "      <td>647.0</td>\n",
       "      <td>508.0</td>\n",
       "      <td>455.0</td>\n",
       "      <td>430.0</td>\n",
       "      <td>470.0</td>\n",
       "      <td>473.0</td>\n",
       "      <td>497.0</td>\n",
       "      <td>537.0</td>\n",
       "      <td>308.0</td>\n",
       "    </tr>\n",
       "    <tr>\n",
       "      <th>OR</th>\n",
       "      <td>81.0</td>\n",
       "      <td>39.0</td>\n",
       "      <td>48.0</td>\n",
       "      <td>68.0</td>\n",
       "      <td>89.0</td>\n",
       "      <td>70.0</td>\n",
       "      <td>199.0</td>\n",
       "      <td>573.0</td>\n",
       "      <td>762.0</td>\n",
       "      <td>264.0</td>\n",
       "    </tr>\n",
       "    <tr>\n",
       "      <th>PA</th>\n",
       "      <td>609.0</td>\n",
       "      <td>709.0</td>\n",
       "      <td>614.0</td>\n",
       "      <td>517.0</td>\n",
       "      <td>557.0</td>\n",
       "      <td>575.0</td>\n",
       "      <td>675.0</td>\n",
       "      <td>825.0</td>\n",
       "      <td>852.0</td>\n",
       "      <td>560.0</td>\n",
       "    </tr>\n",
       "    <tr>\n",
       "      <th>RI</th>\n",
       "      <td>12.0</td>\n",
       "      <td>2.0</td>\n",
       "      <td>25.0</td>\n",
       "      <td>7.0</td>\n",
       "      <td>4.0</td>\n",
       "      <td>5.0</td>\n",
       "      <td>4.0</td>\n",
       "      <td>6.0</td>\n",
       "      <td>4.0</td>\n",
       "      <td>1.0</td>\n",
       "    </tr>\n",
       "    <tr>\n",
       "      <th>SC</th>\n",
       "      <td>1979.0</td>\n",
       "      <td>2743.0</td>\n",
       "      <td>1240.0</td>\n",
       "      <td>2565.0</td>\n",
       "      <td>3140.0</td>\n",
       "      <td>2945.0</td>\n",
       "      <td>2755.0</td>\n",
       "      <td>3651.0</td>\n",
       "      <td>3963.0</td>\n",
       "      <td>2577.0</td>\n",
       "    </tr>\n",
       "    <tr>\n",
       "      <th>SD</th>\n",
       "      <td>513.0</td>\n",
       "      <td>578.0</td>\n",
       "      <td>452.0</td>\n",
       "      <td>555.0</td>\n",
       "      <td>560.0</td>\n",
       "      <td>561.0</td>\n",
       "      <td>680.0</td>\n",
       "      <td>729.0</td>\n",
       "      <td>837.0</td>\n",
       "      <td>600.0</td>\n",
       "    </tr>\n",
       "    <tr>\n",
       "      <th>SK</th>\n",
       "      <td>0.0</td>\n",
       "      <td>0.0</td>\n",
       "      <td>17.0</td>\n",
       "      <td>0.0</td>\n",
       "      <td>0.0</td>\n",
       "      <td>0.0</td>\n",
       "      <td>0.0</td>\n",
       "      <td>0.0</td>\n",
       "      <td>0.0</td>\n",
       "      <td>0.0</td>\n",
       "    </tr>\n",
       "    <tr>\n",
       "      <th>TN</th>\n",
       "      <td>2256.0</td>\n",
       "      <td>2425.0</td>\n",
       "      <td>2170.0</td>\n",
       "      <td>1926.0</td>\n",
       "      <td>2240.0</td>\n",
       "      <td>2558.0</td>\n",
       "      <td>2880.0</td>\n",
       "      <td>2948.0</td>\n",
       "      <td>3285.0</td>\n",
       "      <td>1434.0</td>\n",
       "    </tr>\n",
       "    <tr>\n",
       "      <th>TX</th>\n",
       "      <td>3242.0</td>\n",
       "      <td>2850.0</td>\n",
       "      <td>2156.0</td>\n",
       "      <td>2012.0</td>\n",
       "      <td>2045.0</td>\n",
       "      <td>2066.0</td>\n",
       "      <td>2532.0</td>\n",
       "      <td>2890.0</td>\n",
       "      <td>3165.0</td>\n",
       "      <td>1859.0</td>\n",
       "    </tr>\n",
       "    <tr>\n",
       "      <th>UT</th>\n",
       "      <td>2168.0</td>\n",
       "      <td>2039.0</td>\n",
       "      <td>1574.0</td>\n",
       "      <td>1734.0</td>\n",
       "      <td>1606.0</td>\n",
       "      <td>838.0</td>\n",
       "      <td>710.0</td>\n",
       "      <td>773.0</td>\n",
       "      <td>943.0</td>\n",
       "      <td>667.0</td>\n",
       "    </tr>\n",
       "    <tr>\n",
       "      <th>VA</th>\n",
       "      <td>2763.0</td>\n",
       "      <td>2612.0</td>\n",
       "      <td>2455.0</td>\n",
       "      <td>2647.0</td>\n",
       "      <td>2175.0</td>\n",
       "      <td>1975.0</td>\n",
       "      <td>3214.0</td>\n",
       "      <td>3338.0</td>\n",
       "      <td>3432.0</td>\n",
       "      <td>1652.0</td>\n",
       "    </tr>\n",
       "    <tr>\n",
       "      <th>VT</th>\n",
       "      <td>501.0</td>\n",
       "      <td>456.0</td>\n",
       "      <td>432.0</td>\n",
       "      <td>454.0</td>\n",
       "      <td>419.0</td>\n",
       "      <td>466.0</td>\n",
       "      <td>491.0</td>\n",
       "      <td>513.0</td>\n",
       "      <td>521.0</td>\n",
       "      <td>119.0</td>\n",
       "    </tr>\n",
       "    <tr>\n",
       "      <th>WA</th>\n",
       "      <td>2575.0</td>\n",
       "      <td>1986.0</td>\n",
       "      <td>3014.0</td>\n",
       "      <td>3194.0</td>\n",
       "      <td>4443.0</td>\n",
       "      <td>6251.0</td>\n",
       "      <td>9105.0</td>\n",
       "      <td>11816.0</td>\n",
       "      <td>13676.0</td>\n",
       "      <td>7031.0</td>\n",
       "    </tr>\n",
       "    <tr>\n",
       "      <th>WI</th>\n",
       "      <td>332.0</td>\n",
       "      <td>376.0</td>\n",
       "      <td>142.0</td>\n",
       "      <td>120.0</td>\n",
       "      <td>171.0</td>\n",
       "      <td>178.0</td>\n",
       "      <td>490.0</td>\n",
       "      <td>448.0</td>\n",
       "      <td>853.0</td>\n",
       "      <td>301.0</td>\n",
       "    </tr>\n",
       "    <tr>\n",
       "      <th>WV</th>\n",
       "      <td>37.0</td>\n",
       "      <td>48.0</td>\n",
       "      <td>42.0</td>\n",
       "      <td>38.0</td>\n",
       "      <td>134.0</td>\n",
       "      <td>34.0</td>\n",
       "      <td>37.0</td>\n",
       "      <td>72.0</td>\n",
       "      <td>116.0</td>\n",
       "      <td>55.0</td>\n",
       "    </tr>\n",
       "    <tr>\n",
       "      <th>WY</th>\n",
       "      <td>385.0</td>\n",
       "      <td>361.0</td>\n",
       "      <td>382.0</td>\n",
       "      <td>290.0</td>\n",
       "      <td>304.0</td>\n",
       "      <td>307.0</td>\n",
       "      <td>292.0</td>\n",
       "      <td>308.0</td>\n",
       "      <td>336.0</td>\n",
       "      <td>256.0</td>\n",
       "    </tr>\n",
       "  </tbody>\n",
       "</table>\n",
       "</div>"
      ],
      "text/plain": [
       "                         workers_certified                                   \\\n",
       "certification_start_year            2008.0  2009.0  2010.0  2011.0   2012.0   \n",
       "state                                                                         \n",
       "AB                                     0.0    13.0     0.0     0.0      0.0   \n",
       "AK                                    30.0    31.0    20.0    22.0     22.0   \n",
       "AL                                   720.0   584.0   520.0   613.0    701.0   \n",
       "AR                                  3325.0  3026.0  2836.0  2471.0   2712.0   \n",
       "AZ                                  5836.0  4159.0  3304.0  2091.0   2242.0   \n",
       "CA                                  3353.0  2941.0  2298.0  1774.0   3249.0   \n",
       "CO                                  2536.0  2364.0  1572.0  1045.0   1052.0   \n",
       "CT                                   655.0   278.0   362.0   290.0    721.0   \n",
       "DE                                    53.0    57.0    46.0    38.0     32.0   \n",
       "FL                                  5571.0  5113.0  4598.0  6577.0   8646.0   \n",
       "GA                                  7173.0  6510.0  4927.0  6475.0   7887.0   \n",
       "HI                                   224.0   200.0   175.0   114.0    122.0   \n",
       "IA                                  1735.0  1344.0   846.0  1168.0   1212.0   \n",
       "ID                                  2278.0  2259.0  2536.0  1801.0   1987.0   \n",
       "IL                                   744.0   525.0   543.0   570.0    784.0   \n",
       "IN                                   132.0   101.0    71.0   119.0    463.0   \n",
       "KS                                  1087.0   906.0   799.0   839.0    730.0   \n",
       "KY                                  5873.0  5716.0  5443.0  4686.0   4755.0   \n",
       "LA                                  6050.0  6926.0  6424.0  7113.0   6786.0   \n",
       "MA                                   692.0   558.0   442.0   487.0    449.0   \n",
       "MB                                     0.0     0.0    10.0     0.0      0.0   \n",
       "MD                                  1121.0   873.0   616.0   624.0    639.0   \n",
       "ME                                   638.0   974.0   627.0   614.0    586.0   \n",
       "MI                                   469.0   460.0   277.0   276.0    344.0   \n",
       "MN                                   955.0   694.0   706.0   521.0    750.0   \n",
       "MO                                   492.0   354.0   305.0   267.0    226.0   \n",
       "MS                                  2149.0  1937.0  1840.0  1745.0   2267.0   \n",
       "MT                                   598.0   505.0   169.0   422.0    479.0   \n",
       "NC                                  9133.0  9128.0  9396.0  9129.0  10481.0   \n",
       "ND                                   878.0   973.0   825.0   837.0    898.0   \n",
       "NE                                   200.0   223.0   220.0   240.0    259.0   \n",
       "NH                                   273.0   418.0   135.0   205.0    153.0   \n",
       "NJ                                   511.0   580.0   457.0   454.0    548.0   \n",
       "NM                                   421.0   545.0   548.0   568.0    124.0   \n",
       "NV                                  2001.0  1927.0  1677.0  1762.0   1682.0   \n",
       "NY                                  4210.0  4315.0  3852.0  3949.0   3650.0   \n",
       "OH                                  1153.0  1216.0   924.0   733.0    770.0   \n",
       "OK                                   602.0   647.0   508.0   455.0    430.0   \n",
       "OR                                    81.0    39.0    48.0    68.0     89.0   \n",
       "PA                                   609.0   709.0   614.0   517.0    557.0   \n",
       "RI                                    12.0     2.0    25.0     7.0      4.0   \n",
       "SC                                  1979.0  2743.0  1240.0  2565.0   3140.0   \n",
       "SD                                   513.0   578.0   452.0   555.0    560.0   \n",
       "SK                                     0.0     0.0    17.0     0.0      0.0   \n",
       "TN                                  2256.0  2425.0  2170.0  1926.0   2240.0   \n",
       "TX                                  3242.0  2850.0  2156.0  2012.0   2045.0   \n",
       "UT                                  2168.0  2039.0  1574.0  1734.0   1606.0   \n",
       "VA                                  2763.0  2612.0  2455.0  2647.0   2175.0   \n",
       "VT                                   501.0   456.0   432.0   454.0    419.0   \n",
       "WA                                  2575.0  1986.0  3014.0  3194.0   4443.0   \n",
       "WI                                   332.0   376.0   142.0   120.0    171.0   \n",
       "WV                                    37.0    48.0    42.0    38.0    134.0   \n",
       "WY                                   385.0   361.0   382.0   290.0    304.0   \n",
       "\n",
       "                                                                       \n",
       "certification_start_year   2013.0   2014.0   2015.0   2016.0   2017.0  \n",
       "state                                                                  \n",
       "AB                            0.0      0.0      0.0      0.0      0.0  \n",
       "AK                           20.0     15.0     15.0     17.0     22.0  \n",
       "AL                          650.0    729.0    735.0    945.0    599.0  \n",
       "AR                         2793.0   2582.0   2490.0   3123.0   1971.0  \n",
       "AZ                         3365.0   3998.0   4595.0   6205.0    991.0  \n",
       "CA                         4291.0   6011.0   8529.0  11131.0   6230.0  \n",
       "CO                         1113.0   1573.0   1693.0   2059.0   1096.0  \n",
       "CT                          833.0    408.0    478.0    327.0    226.0  \n",
       "DE                           32.0     36.0    227.0    392.0    119.0  \n",
       "FL                        11196.0  15759.0  18551.0  21894.0   6432.0  \n",
       "GA                         9330.0  10477.0  14165.0  17667.0  12206.0  \n",
       "HI                           21.0     39.0     43.0     48.0     46.0  \n",
       "IA                         1557.0   1169.0   1330.0   2226.0    712.0  \n",
       "ID                         2044.0   2079.0   2351.0   3043.0   2302.0  \n",
       "IL                          805.0    871.0    810.0   1330.0    262.0  \n",
       "IN                         1017.0    934.0   1261.0   1974.0    404.0  \n",
       "KS                          678.0    691.0    743.0    788.0    690.0  \n",
       "KY                         5804.0   6811.0   6672.0   6787.0   2145.0  \n",
       "LA                         6684.0   7071.0   7819.0   8387.0   3856.0  \n",
       "MA                          457.0    432.0    459.0    437.0    193.0  \n",
       "MB                            0.0      0.0      0.0      0.0      0.0  \n",
       "MD                          640.0    608.0    657.0    804.0    531.0  \n",
       "ME                          519.0    641.0    665.0    700.0     53.0  \n",
       "MI                          585.0   1317.0   2226.0   3932.0   1632.0  \n",
       "MN                          729.0   1000.0   1178.0   1271.0   1152.0  \n",
       "MO                          327.0    618.0    815.0    895.0    290.0  \n",
       "MS                         2460.0   2915.0   3332.0   3564.0   1838.0  \n",
       "MT                          484.0    587.0    608.0    617.0    599.0  \n",
       "NC                        12386.0  15145.0  17596.0  19714.0   9513.0  \n",
       "ND                          913.0   1197.0   1325.0   1352.0   1161.0  \n",
       "NE                          379.0    548.0    666.0    989.0    363.0  \n",
       "NH                          181.0    163.0    166.0    169.0     76.0  \n",
       "NJ                          598.0    648.0    806.0   1016.0    971.0  \n",
       "NM                          152.0    163.0    254.0    368.0    267.0  \n",
       "NV                         1769.0   1874.0   1941.0   2078.0    711.0  \n",
       "NY                         4697.0   4681.0   5058.0   5551.0   1693.0  \n",
       "OH                          762.0    845.0   1055.0   1375.0    857.0  \n",
       "OK                          470.0    473.0    497.0    537.0    308.0  \n",
       "OR                           70.0    199.0    573.0    762.0    264.0  \n",
       "PA                          575.0    675.0    825.0    852.0    560.0  \n",
       "RI                            5.0      4.0      6.0      4.0      1.0  \n",
       "SC                         2945.0   2755.0   3651.0   3963.0   2577.0  \n",
       "SD                          561.0    680.0    729.0    837.0    600.0  \n",
       "SK                            0.0      0.0      0.0      0.0      0.0  \n",
       "TN                         2558.0   2880.0   2948.0   3285.0   1434.0  \n",
       "TX                         2066.0   2532.0   2890.0   3165.0   1859.0  \n",
       "UT                          838.0    710.0    773.0    943.0    667.0  \n",
       "VA                         1975.0   3214.0   3338.0   3432.0   1652.0  \n",
       "VT                          466.0    491.0    513.0    521.0    119.0  \n",
       "WA                         6251.0   9105.0  11816.0  13676.0   7031.0  \n",
       "WI                          178.0    490.0    448.0    853.0    301.0  \n",
       "WV                           34.0     37.0     72.0    116.0     55.0  \n",
       "WY                          307.0    292.0    308.0    336.0    256.0  "
      ]
     },
     "execution_count": 16,
     "metadata": {},
     "output_type": "execute_result"
    }
   ],
   "source": [
    "# Added by Steve, a crosstab seems to be a type of table where the values of one variable are plotted on the x-axis\n",
    "# and the values of another variable are plotted on the y-axis and a third (quantitative variable) for each nominal x and y\n",
    "# variable is displayed. I think this is what The Oregonian called a lookup table.\n",
    "state_crosstab"
   ]
  },
  {
   "cell_type": "markdown",
   "metadata": {},
   "source": [
    "Output it for a graphic"
   ]
  },
  {
   "cell_type": "code",
   "execution_count": 17,
   "metadata": {},
   "outputs": [],
   "source": [
    "state_crosstab.to_csv(\"./output/state_crosstab.csv\")"
   ]
  },
  {
   "cell_type": "markdown",
   "metadata": {},
   "source": [
    "Filter down to just California's totals"
   ]
  },
  {
   "cell_type": "code",
   "execution_count": 18,
   "metadata": {},
   "outputs": [
    {
     "data": {
      "text/plain": [
       "Index([u'AB', u'AK', u'AK', u'AK', u'AK', u'AK', u'AK', u'AK', u'AK', u'AK',\n",
       "       ...\n",
       "       u'WY', u'WY', u'WY', u'WY', u'WY', u'WY', u'WY', u'WY', u'WY', u'WY'],\n",
       "      dtype='object', name=u'state', length=503)"
      ]
     },
     "execution_count": 18,
     "metadata": {},
     "output_type": "execute_result"
    }
   ],
   "source": [
    "# Added by Steve\n",
    "state_totals.index.get_level_values(0)"
   ]
  },
  {
   "cell_type": "code",
   "execution_count": 19,
   "metadata": {},
   "outputs": [],
   "source": [
    "ca_totals = state_totals[state_totals.index.get_level_values(0) == 'CA']"
   ]
  },
  {
   "cell_type": "markdown",
   "metadata": {},
   "source": [
    "Ouput the annual totals"
   ]
  },
  {
   "cell_type": "code",
   "execution_count": 20,
   "metadata": {},
   "outputs": [
    {
     "data": {
      "text/plain": [
       "<matplotlib.axes._subplots.AxesSubplot at 0x7f0329349e10>"
      ]
     },
     "execution_count": 20,
     "metadata": {},
     "output_type": "execute_result"
    },
    {
     "data": {
      "image/png": "[encoded data removed]",
      "text/plain": [
       "<Figure size 1080x504 with 1 Axes>"
      ]
     },
     "metadata": {
      "needs_background": "light"
     },
     "output_type": "display_data"
    }
   ],
   "source": [
    "ca_totals.workers_certified.plot.bar(figsize=(15, 7))"
   ]
  },
  {
   "cell_type": "code",
   "execution_count": 21,
   "metadata": {},
   "outputs": [
    {
     "data": {
      "text/html": [
       "<div>\n",
       "<style scoped>\n",
       "    .dataframe tbody tr th:only-of-type {\n",
       "        vertical-align: middle;\n",
       "    }\n",
       "\n",
       "    .dataframe tbody tr th {\n",
       "        vertical-align: top;\n",
       "    }\n",
       "\n",
       "    .dataframe thead th {\n",
       "        text-align: right;\n",
       "    }\n",
       "</style>\n",
       "<table border=\"1\" class=\"dataframe\">\n",
       "  <thead>\n",
       "    <tr style=\"text-align: right;\">\n",
       "      <th></th>\n",
       "      <th></th>\n",
       "      <th>workers_certified</th>\n",
       "    </tr>\n",
       "    <tr>\n",
       "      <th>state</th>\n",
       "      <th>certification_start_year</th>\n",
       "      <th></th>\n",
       "    </tr>\n",
       "  </thead>\n",
       "  <tbody>\n",
       "    <tr>\n",
       "      <th rowspan=\"10\" valign=\"top\">CA</th>\n",
       "      <th>2008.0</th>\n",
       "      <td>3353</td>\n",
       "    </tr>\n",
       "    <tr>\n",
       "      <th>2009.0</th>\n",
       "      <td>2941</td>\n",
       "    </tr>\n",
       "    <tr>\n",
       "      <th>2010.0</th>\n",
       "      <td>2298</td>\n",
       "    </tr>\n",
       "    <tr>\n",
       "      <th>2011.0</th>\n",
       "      <td>1774</td>\n",
       "    </tr>\n",
       "    <tr>\n",
       "      <th>2012.0</th>\n",
       "      <td>3249</td>\n",
       "    </tr>\n",
       "    <tr>\n",
       "      <th>2013.0</th>\n",
       "      <td>4291</td>\n",
       "    </tr>\n",
       "    <tr>\n",
       "      <th>2014.0</th>\n",
       "      <td>6011</td>\n",
       "    </tr>\n",
       "    <tr>\n",
       "      <th>2015.0</th>\n",
       "      <td>8529</td>\n",
       "    </tr>\n",
       "    <tr>\n",
       "      <th>2016.0</th>\n",
       "      <td>11131</td>\n",
       "    </tr>\n",
       "    <tr>\n",
       "      <th>2017.0</th>\n",
       "      <td>6230</td>\n",
       "    </tr>\n",
       "  </tbody>\n",
       "</table>\n",
       "</div>"
      ],
      "text/plain": [
       "                                workers_certified\n",
       "state certification_start_year                   \n",
       "CA    2008.0                                 3353\n",
       "      2009.0                                 2941\n",
       "      2010.0                                 2298\n",
       "      2011.0                                 1774\n",
       "      2012.0                                 3249\n",
       "      2013.0                                 4291\n",
       "      2014.0                                 6011\n",
       "      2015.0                                 8529\n",
       "      2016.0                                11131\n",
       "      2017.0                                 6230"
      ]
     },
     "execution_count": 21,
     "metadata": {},
     "output_type": "execute_result"
    }
   ],
   "source": [
    "ca_totals"
   ]
  },
  {
   "cell_type": "markdown",
   "metadata": {},
   "source": [
    "Trim down to the last five years of data and calculate California's percentage change"
   ]
  },
  {
   "cell_type": "code",
   "execution_count": 39,
   "metadata": {},
   "outputs": [],
   "source": [
    "ca_last_five = ca_totals[\n",
    "    (ca_totals.index.get_level_values(1) > 2010) &\n",
    "    (ca_totals.index.get_level_values(1) < 2017)\n",
    "].reset_index()"
   ]
  },
  {
   "cell_type": "code",
   "execution_count": 41,
   "metadata": {},
   "outputs": [],
   "source": [
    "ca_pct_change = ca_last_five[[\n",
    "  'certification_start_year',\n",
    "  'workers_certified'\n",
    "]].set_index('certification_start_year').pct_change(\n",
    "    len(ca_last_five)-1\n",
    ")"
   ]
  },
  {
   "cell_type": "code",
   "execution_count": 24,
   "metadata": {},
   "outputs": [
    {
     "name": "stdout",
     "output_type": "stream",
     "text": [
      "Percent change: 527.45%\n"
     ]
    }
   ],
   "source": [
    "print \"Percent change: %s%%\" % round(ca_pct_change.at[2016.0, 'workers_certified']*100, 2)"
   ]
  },
  {
   "cell_type": "markdown",
   "metadata": {},
   "source": [
    "Output for a graphic"
   ]
  },
  {
   "cell_type": "code",
   "execution_count": 25,
   "metadata": {},
   "outputs": [],
   "source": [
    "ca_totals.reset_index()[['certification_start_year', 'workers_certified']].to_csv(\n",
    "    \"./output/california-totals-graphics.csv\",\n",
    "    index=False\n",
    ")"
   ]
  },
  {
   "cell_type": "markdown",
   "metadata": {},
   "source": [
    "### Finding: If this year’s hiring pace holds, that number will soar even higher"
   ]
  },
  {
   "cell_type": "markdown",
   "metadata": {},
   "source": [
    "Convert the start date column to a datetime object"
   ]
  },
  {
   "cell_type": "code",
   "execution_count": 26,
   "metadata": {},
   "outputs": [],
   "source": [
    "df.certification_start_date = pd.to_datetime(df.certification_start_date)"
   ]
  },
  {
   "cell_type": "markdown",
   "metadata": {},
   "source": [
    "Pull out the first four months of this year versus last year"
   ]
  },
  {
   "cell_type": "code",
   "execution_count": 27,
   "metadata": {},
   "outputs": [],
   "source": [
    "first_four_16 = df[\n",
    "    (df.state == 'CA') &\n",
    "    (df.certification_start_date >= date(2016, 1, 1)) & \n",
    "    (df.certification_start_date < date(2016, 5, 1))\n",
    "]"
   ]
  },
  {
   "cell_type": "code",
   "execution_count": 28,
   "metadata": {},
   "outputs": [],
   "source": [
    "first_four_17 = df[\n",
    "    (df.state == 'CA') &\n",
    "    (df.certification_start_date >= date(2017, 1, 1)) & \n",
    "    (df.certification_start_date < date(2017, 5, 1))\n",
    "]"
   ]
  },
  {
   "cell_type": "markdown",
   "metadata": {},
   "source": [
    "Compare the total hires in that period"
   ]
  },
  {
   "cell_type": "code",
   "execution_count": 29,
   "metadata": {},
   "outputs": [
    {
     "data": {
      "text/plain": [
       "4838"
      ]
     },
     "execution_count": 29,
     "metadata": {},
     "output_type": "execute_result"
    }
   ],
   "source": [
    "first_four_16.workers_certified.sum()"
   ]
  },
  {
   "cell_type": "code",
   "execution_count": 30,
   "metadata": {},
   "outputs": [
    {
     "data": {
      "text/plain": [
       "6115"
      ]
     },
     "execution_count": 30,
     "metadata": {},
     "output_type": "execute_result"
    }
   ],
   "source": [
    "first_four_17.workers_certified.sum()"
   ]
  },
  {
   "cell_type": "markdown",
   "metadata": {},
   "source": [
    "### Finding: Counties on the Central Coast, from Ventura up to Santa Cruz, are driving the growth"
   ]
  },
  {
   "cell_type": "markdown",
   "metadata": {},
   "source": [
    "Read in all \"sub\" cases rather than the master cases. This allows for the farms where workers are actually employed to be mapped, rather than the the \"master cases\" of middlemen who sometimes file the \"master\" applications. "
   ]
  },
  {
   "cell_type": "code",
   "execution_count": 31,
   "metadata": {},
   "outputs": [],
   "source": [
    "combined_df = pd.read_csv(os.path.join(output_dir, \"geocoded_all_cases.csv\"))"
   ]
  },
  {
   "cell_type": "markdown",
   "metadata": {},
   "source": [
    "Convert to a geodataframe."
   ]
  },
  {
   "cell_type": "code",
   "execution_count": 32,
   "metadata": {},
   "outputs": [],
   "source": [
    "def create_point(row):\n",
    "    if row.lng and row.lat:\n",
    "        return Point(row.lng, row.lat)\n",
    "    return ''"
   ]
  },
  {
   "cell_type": "code",
   "execution_count": 33,
   "metadata": {},
   "outputs": [],
   "source": [
    "combined_df['geometry'] = combined_df.apply(create_point, axis=1)"
   ]
  },
  {
   "cell_type": "code",
   "execution_count": 34,
   "metadata": {},
   "outputs": [],
   "source": [
    "gdf = gp.GeoDataFrame(combined_df)"
   ]
  },
  {
   "cell_type": "code",
   "execution_count": 35,
   "metadata": {},
   "outputs": [],
   "source": [
    "gdf.crs = {'init' :'epsg:4269'}"
   ]
  },
  {
   "cell_type": "markdown",
   "metadata": {},
   "source": [
    "Exclude cases that could not be mapped."
   ]
  },
  {
   "cell_type": "code",
   "execution_count": 36,
   "metadata": {},
   "outputs": [],
   "source": [
    "valid_gdf = gdf[~gdf.lat.isnull()]"
   ]
  },
  {
   "cell_type": "markdown",
   "metadata": {},
   "source": [
    "Spatial join with county polygons"
   ]
  },
  {
   "cell_type": "code",
   "execution_count": 37,
   "metadata": {},
   "outputs": [],
   "source": [
    "counties = gp.read_file(os.path.join(input_dir, \"cb_2016_us_county_5m.shp\"))"
   ]
  },
  {
   "cell_type": "code",
   "execution_count": 38,
   "metadata": {},
   "outputs": [
    {
     "ename": "ImportError",
     "evalue": "No module named rtree",
     "output_type": "error",
     "traceback": [
      "\u001b[0;31m\u001b[0m",
      "\u001b[0;31mImportError\u001b[0mTraceback (most recent call last)",
      "\u001b[0;32m<ipython-input-38-bc2ddc7f670b>\u001b[0m in \u001b[0;36m<module>\u001b[0;34m()\u001b[0m\n\u001b[0;32m----> 1\u001b[0;31m \u001b[0mgdf_with_county\u001b[0m \u001b[0;34m=\u001b[0m \u001b[0mgp\u001b[0m\u001b[0;34m.\u001b[0m\u001b[0msjoin\u001b[0m\u001b[0;34m(\u001b[0m\u001b[0mcounties\u001b[0m\u001b[0;34m,\u001b[0m \u001b[0mvalid_gdf\u001b[0m\u001b[0;34m,\u001b[0m \u001b[0mhow\u001b[0m\u001b[0;34m=\u001b[0m\u001b[0;34m\"inner\"\u001b[0m\u001b[0;34m)\u001b[0m\u001b[0;34m\u001b[0m\u001b[0m\n\u001b[0m",
      "\u001b[0;32m/home/jovyan/.local/lib/python2.7/site-packages/geopandas/tools/sjoin.pyc\u001b[0m in \u001b[0;36msjoin\u001b[0;34m(left_df, right_df, how, op, lsuffix, rsuffix)\u001b[0m\n\u001b[1;32m     31\u001b[0m \u001b[0;34m\u001b[0m\u001b[0m\n\u001b[1;32m     32\u001b[0m     \"\"\"\n\u001b[0;32m---> 33\u001b[0;31m     \u001b[0;32mimport\u001b[0m \u001b[0mrtree\u001b[0m\u001b[0;34m\u001b[0m\u001b[0m\n\u001b[0m\u001b[1;32m     34\u001b[0m \u001b[0;34m\u001b[0m\u001b[0m\n\u001b[1;32m     35\u001b[0m     \u001b[0;32mif\u001b[0m \u001b[0;32mnot\u001b[0m \u001b[0misinstance\u001b[0m\u001b[0;34m(\u001b[0m\u001b[0mleft_df\u001b[0m\u001b[0;34m,\u001b[0m \u001b[0mGeoDataFrame\u001b[0m\u001b[0;34m)\u001b[0m\u001b[0;34m:\u001b[0m\u001b[0;34m\u001b[0m\u001b[0m\n",
      "\u001b[0;31mImportError\u001b[0m: No module named rtree"
     ]
    }
   ],
   "source": [
    "gdf_with_county = gp.sjoin(counties, valid_gdf, how=\"inner\")"
   ]
  },
  {
   "cell_type": "markdown",
   "metadata": {},
   "source": [
    "Filter to California"
   ]
  },
  {
   "cell_type": "code",
   "execution_count": null,
   "metadata": {},
   "outputs": [],
   "source": [
    "ca_gdf = gdf_with_county[gdf_with_county.STATEFP == '06']"
   ]
  },
  {
   "cell_type": "markdown",
   "metadata": {},
   "source": [
    "Create a crosstab of the total number of workers by year in all California counties"
   ]
  },
  {
   "cell_type": "code",
   "execution_count": null,
   "metadata": {},
   "outputs": [],
   "source": [
    "county_crosstab = ca_gdf.groupby([\n",
    "    'NAME',\n",
    "    'certification_start_year'\n",
    "]).net_workers.sum().reset_index().set_index([\n",
    "    \"NAME\",\n",
    "    \"certification_start_year\"\n",
    "]).unstack(1).fillna(0)"
   ]
  },
  {
   "cell_type": "markdown",
   "metadata": {},
   "source": [
    "Strip all the pandas chrome off the crosstab"
   ]
  },
  {
   "cell_type": "code",
   "execution_count": null,
   "metadata": {},
   "outputs": [],
   "source": [
    "county_crosstab = county_crosstab.reset_index()\n",
    "county_crosstab.columns = county_crosstab.columns.droplevel(0)\n",
    "county_crosstab = county_crosstab.rename_axis(None, axis=1)\n",
    "county_crosstab = county_crosstab.set_index(\"\")"
   ]
  },
  {
   "cell_type": "markdown",
   "metadata": {},
   "source": [
    "Calculate the change in each county"
   ]
  },
  {
   "cell_type": "code",
   "execution_count": null,
   "metadata": {},
   "outputs": [],
   "source": [
    "county_crosstab['change_11to16'] = county_crosstab.apply(\n",
    "    lambda x: x[2016.0] - x[2011.0],\n",
    "    axis=1\n",
    ")"
   ]
  },
  {
   "cell_type": "markdown",
   "metadata": {},
   "source": [
    "Rank them by their change"
   ]
  },
  {
   "cell_type": "code",
   "execution_count": null,
   "metadata": {},
   "outputs": [],
   "source": [
    "county_crosstab.sort_values(\"change_11to16\", ascending=False).head(10)"
   ]
  },
  {
   "cell_type": "markdown",
   "metadata": {},
   "source": [
    "Output that for a graphic"
   ]
  },
  {
   "cell_type": "code",
   "execution_count": null,
   "metadata": {},
   "outputs": [],
   "source": [
    "county_crosstab.to_csv(os.path.join(output_dir, \"county-crosstab.csv\"), encoding=\"utf-8\")"
   ]
  },
  {
   "cell_type": "markdown",
   "metadata": {},
   "source": [
    "Total up the workers by city for a map"
   ]
  },
  {
   "cell_type": "code",
   "execution_count": null,
   "metadata": {},
   "outputs": [],
   "source": [
    "ca_location_totals = ca_gdf.groupby([\n",
    "    \"certification_start_year\",\n",
    "    \"geocoder_address\",\n",
    "    \"lat\",\n",
    "    'lng',\n",
    "]).net_workers.sum().reset_index()"
   ]
  },
  {
   "cell_type": "code",
   "execution_count": null,
   "metadata": {},
   "outputs": [],
   "source": [
    "ca_location_totals['certification_start_year'] = ca_location_totals.certification_start_year.astype(int)"
   ]
  },
  {
   "cell_type": "code",
   "execution_count": null,
   "metadata": {},
   "outputs": [],
   "source": [
    "ca_location_totals['net_workers'] = ca_location_totals.net_workers.astype(int)"
   ]
  },
  {
   "cell_type": "code",
   "execution_count": null,
   "metadata": {},
   "outputs": [],
   "source": [
    "ca_location_totals.columns = [\n",
    "    'year',\n",
    "    'address',\n",
    "    'lat',\n",
    "    'lng',\n",
    "    'workers'\n",
    "]"
   ]
  },
  {
   "cell_type": "markdown",
   "metadata": {},
   "source": [
    "Output that for a graphic"
   ]
  },
  {
   "cell_type": "code",
   "execution_count": null,
   "metadata": {},
   "outputs": [],
   "source": [
    "ca_location_totals.to_csv(os.path.join(output_dir, \"ca_totals_by_location.csv\"), index=False)"
   ]
  },
  {
   "cell_type": "markdown",
   "metadata": {},
   "source": [
    "### Finding: Strawberries and lettuce crops have accounted for most of the new workers"
   ]
  },
  {
   "cell_type": "markdown",
   "metadata": {},
   "source": [
    "Regroup subcases in the state by our cleaned up version of the crop column"
   ]
  },
  {
   "cell_type": "code",
   "execution_count": null,
   "metadata": {},
   "outputs": [],
   "source": [
    "ca_crops = ca_gdf.groupby([\n",
    "    \"certification_start_year\",\n",
    "    \"latimes_crop\"\n",
    "]).net_workers.sum().reset_index().sort_values(\"net_workers\", ascending=False)"
   ]
  },
  {
   "cell_type": "markdown",
   "metadata": {},
   "source": [
    "Create a crosstab by year"
   ]
  },
  {
   "cell_type": "code",
   "execution_count": null,
   "metadata": {},
   "outputs": [],
   "source": [
    "crops_crosstab = ca_crops.set_index([\n",
    "    \"certification_start_year\",\n",
    "    \"latimes_crop\"\n",
    "]).unstack(0).fillna(0)"
   ]
  },
  {
   "cell_type": "markdown",
   "metadata": {},
   "source": [
    "Again, strip the pandas chrome from the crosstab"
   ]
  },
  {
   "cell_type": "code",
   "execution_count": null,
   "metadata": {},
   "outputs": [],
   "source": [
    "crops_crosstab = crops_crosstab.reset_index()\n",
    "crops_crosstab.columns = crops_crosstab.columns.droplevel(0)\n",
    "crops_crosstab = crops_crosstab.rename_axis(None, axis=1)\n",
    "crops_crosstab = crops_crosstab.set_index(\"\")"
   ]
  },
  {
   "cell_type": "markdown",
   "metadata": {
    "collapsed": true
   },
   "source": [
    "Calculate the change over the past five years"
   ]
  },
  {
   "cell_type": "code",
   "execution_count": null,
   "metadata": {},
   "outputs": [],
   "source": [
    "crops_crosstab['change_11to16'] = crops_crosstab.apply(\n",
    "    lambda x: x[2016.0] - x[2011.0],\n",
    "    axis=1\n",
    ")"
   ]
  },
  {
   "cell_type": "markdown",
   "metadata": {},
   "source": [
    "Rank the crops"
   ]
  },
  {
   "cell_type": "code",
   "execution_count": null,
   "metadata": {},
   "outputs": [],
   "source": [
    "crops_crosstab.sort_values(\"change_11to16\", ascending=False).head(10)"
   ]
  },
  {
   "cell_type": "markdown",
   "metadata": {},
   "source": [
    "Ouput for a graphic"
   ]
  },
  {
   "cell_type": "code",
   "execution_count": null,
   "metadata": {},
   "outputs": [],
   "source": [
    "crops_crosstab.to_csv(os.path.join(output_dir, \"crops-crosstab.csv\"))"
   ]
  },
  {
   "cell_type": "markdown",
   "metadata": {},
   "source": [
    "### Finding: The Santa Maria Valley, straddling San Louis Obispo and Santa Barbara counties, leapt from six sheepherders in 2012 to more than 2,000 guest farm workers last year"
   ]
  },
  {
   "cell_type": "markdown",
   "metadata": {},
   "source": [
    "Filter down to subcases in those two counties"
   ]
  },
  {
   "cell_type": "code",
   "execution_count": null,
   "metadata": {},
   "outputs": [],
   "source": [
    "smvalley = gdf_with_county[gdf_with_county.NAME.isin(['Santa Barbara', 'San Luis Obispo'])]"
   ]
  },
  {
   "cell_type": "markdown",
   "metadata": {},
   "source": [
    "Count the total number of workers there by year"
   ]
  },
  {
   "cell_type": "code",
   "execution_count": null,
   "metadata": {},
   "outputs": [],
   "source": [
    "smvalley_crosstab = smvalley.groupby([\n",
    "    'certification_start_year'\n",
    "]).net_workers.sum().reset_index().set_index(\"certification_start_year\")"
   ]
  },
  {
   "cell_type": "markdown",
   "metadata": {},
   "source": [
    "Ouput the totals"
   ]
  },
  {
   "cell_type": "code",
   "execution_count": null,
   "metadata": {},
   "outputs": [],
   "source": [
    "smvalley_crosstab.plot.bar()"
   ]
  },
  {
   "cell_type": "code",
   "execution_count": null,
   "metadata": {},
   "outputs": [],
   "source": [
    "smvalley_crosstab"
   ]
  },
  {
   "cell_type": "markdown",
   "metadata": {},
   "source": [
    "Look at the crop for those 2012 workers"
   ]
  },
  {
   "cell_type": "code",
   "execution_count": null,
   "metadata": {},
   "outputs": [],
   "source": [
    "smvalley[smvalley.certification_start_year == 2012][[\n",
    "    'case_number',\n",
    "    'employer',\n",
    "    'city',\n",
    "    'job_title',\n",
    "    'crop',\n",
    "    'net_workers'\n",
    "]]"
   ]
  },
  {
   "cell_type": "markdown",
   "metadata": {},
   "source": [
    "### Finding: Strawberry workers account for most of the growth in that area"
   ]
  },
  {
   "cell_type": "code",
   "execution_count": null,
   "metadata": {},
   "outputs": [],
   "source": [
    "smvalley_crops = smvalley[smvalley.certification_start_year == 2016].groupby([\n",
    "    'latimes_crop'\n",
    "]).net_workers.sum().reset_index().set_index(\"latimes_crop\")"
   ]
  },
  {
   "cell_type": "code",
   "execution_count": null,
   "metadata": {},
   "outputs": [],
   "source": [
    "smvalley_crops.sort_values(\"net_workers\", ascending=False).head(10)"
   ]
  }
 ],
 "metadata": {
  "kernelspec": {
   "display_name": "Python 2",
   "language": "python",
   "name": "python2"
  }
 },
 "nbformat": 4,
 "nbformat_minor": 2
}
