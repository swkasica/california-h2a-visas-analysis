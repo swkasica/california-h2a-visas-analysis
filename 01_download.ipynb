{
 "cells": [
  {
   "cell_type": "markdown",
   "metadata": {},
   "source": [
    "# Download"
   ]
  },
  {
   "cell_type": "markdown",
   "metadata": {},
   "source": [
    "Download the source data files from the [U.S. Department of Labor's Office of Foreign Labor Certification](https://www.foreignlaborcert.doleta.gov/performancedata.cfm)."
   ]
  },
  {
   "cell_type": "code",
   "execution_count": 1,
   "metadata": {},
   "outputs": [
    {
     "name": "stdout",
     "output_type": "stream",
     "text": [
      "  % Total    % Received % Xferd  Average Speed   Time    Time     Time  Current\n",
      "                                 Dload  Upload   Total   Spent    Left  Speed\n",
      "100 4100k  100 4100k    0     0   660k      0  0:00:06  0:00:06 --:--:--  807k\n",
      "  % Total    % Received % Xferd  Average Speed   Time    Time     Time  Current\n",
      "                                 Dload  Upload   Total   Spent    Left  Speed\n",
      "100 3624k  100 3624k    0     0   585k      0  0:00:06  0:00:06 --:--:--  744k\n",
      "  % Total    % Received % Xferd  Average Speed   Time    Time     Time  Current\n",
      "                                 Dload  Upload   Total   Spent    Left  Speed\n",
      "100 3221k  100 3221k    0     0   660k      0  0:00:04  0:00:04 --:--:--  753k\n",
      "  % Total    % Received % Xferd  Average Speed   Time    Time     Time  Current\n",
      "                                 Dload  Upload   Total   Spent    Left  Speed\n",
      "100 1730k  100 1730k    0     0   585k      0  0:00:02  0:00:02 --:--:--  585k\n",
      "  % Total    % Received % Xferd  Average Speed   Time    Time     Time  Current\n",
      "                                 Dload  Upload   Total   Spent    Left  Speed\n",
      "100 3280k  100 3280k    0     0   644k      0  0:00:05  0:00:05 --:--:--  777k\n",
      "  % Total    % Received % Xferd  Average Speed   Time    Time     Time  Current\n",
      "                                 Dload  Upload   Total   Spent    Left  Speed\n",
      "180 1346k   80 1088k    0     0   238k      0  0:00:05  0:00:04  0:00:01  238k00 1346k  100 1346k    0     0   263k      0  0:00:05  0:00:05 --:--:--  291k\n",
      "  % Total    % Received % Xferd  Average Speed   Time    Time     Time  Current\n",
      "                                 Dload  Upload   Total   Spent    Left  Speed\n",
      "100 1234k  100 1234k    0     0   573k      0  0:00:02  0:00:02 --:--:--  573k\n",
      "  % Total    % Received % Xferd  Average Speed   Time    Time     Time  Current\n",
      "                                 Dload  Upload   Total   Spent    Left  Speed\n",
      "100 1364k  100 1364k    0     0   580k      0  0:00:02  0:00:02 --:--:--  580k\n",
      "  % Total    % Received % Xferd  Average Speed   Time    Time     Time  Current\n",
      "                                 Dload  Upload   Total   Spent    Left  Speed\n",
      "100 1523k  100 1523k    0     0   610k      0  0:00:02  0:00:02 --:--:--  610k\n",
      "  % Total    % Received % Xferd  Average Speed   Time    Time     Time  Current\n",
      "                                 Dload  Upload   Total   Spent    Left  Speed\n",
      "100 1371k  100 1371k    0     0   566k      0  0:00:02  0:00:02 --:--:--  566k\n"
     ]
    }
   ],
   "source": [
    "!curl -o input/2017.xlsx https://www.foreignlaborcert.doleta.gov/pdf/PerformanceData/2017/H-2A_Disclosure_Data_FY17.xlsx\n",
    "!curl -o input/2016.xlsx https://www.foreignlaborcert.doleta.gov/docs/Performance_Data/Disclosure/FY15-FY16/H-2A_Disclosure_Data_FY16.xlsx\n",
    "!curl -o input/2015.xlsx https://www.foreignlaborcert.doleta.gov/docs/py2015q4/H-2A_Disclosure_Data_FY15_Q4.xlsx\n",
    "!curl -o input/2014.xlsx https://www.foreignlaborcert.doleta.gov/docs/py2014q4/H-2A_FY14_Q4.xlsx\n",
    "!curl -o input/2013.xlsx https://www.foreignlaborcert.doleta.gov/docs/h_2a/H2A_FY2013.xls\n",
    "!curl -o input/2012.xlsx https://www.foreignlaborcert.doleta.gov/docs/h_2a/H-2A_FY2012.xlsx\n",
    "!curl -o input/2011.xlsx https://www.foreignlaborcert.doleta.gov/docs/h_2a/H-2A_FY2011.xlsx\n",
    "!curl -o input/2010.xlsx https://www.foreignlaborcert.doleta.gov/docs/h_2a/H-2A_FY2010.xlsx\n",
    "!curl -o input/2009.xlsx https://www.foreignlaborcert.doleta.gov/docs/h_2a/H2A_FY2009.xlsx\n",
    "!curl -o input/2008.xlsx https://www.foreignlaborcert.doleta.gov/docs/h_2a/H2A_FY2008.xlsx"
   ]
  },
  {
   "cell_type": "code",
   "execution_count": null,
   "metadata": {},
   "outputs": [],
   "source": []
  }
 ],
 "metadata": {
  "kernelspec": {
   "display_name": "Python 3",
   "language": "python",
   "name": "python3"
  },
  "language_info": {
   "codemirror_mode": {
    "name": "ipython",
    "version": 3
   },
   "file_extension": ".py",
   "mimetype": "text/x-python",
   "name": "python",
   "nbconvert_exporter": "python",
   "pygments_lexer": "ipython3",
   "version": "3.7.3"
  },
  "toc": {
   "base_numbering": 1,
   "nav_menu": {},
   "number_sections": true,
   "sideBar": true,
   "skip_h1_title": false,
   "title_cell": "Table of Contents",
   "title_sidebar": "Contents",
   "toc_cell": false,
   "toc_position": {},
   "toc_section_display": true,
   "toc_window_display": false
  }
 },
 "nbformat": 4,
 "nbformat_minor": 2
}
